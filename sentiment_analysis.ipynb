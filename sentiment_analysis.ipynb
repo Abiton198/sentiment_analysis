{
 "cells": [
  {
   "cell_type": "code",
   "execution_count": 1,
   "id": "52a04b03-2240-4a58-b3a6-e2ed08f929b1",
   "metadata": {
    "tags": []
   },
   "outputs": [],
   "source": [
    "import pandas as pd\n",
    "import numpy as np\n",
    "import seaborn as sns"
   ]
  },
  {
   "cell_type": "code",
   "execution_count": 4,
   "id": "8e415e3b-7e87-43f2-ac29-18a4ee6edf3f",
   "metadata": {
    "tags": []
   },
   "outputs": [],
   "source": [
    "with open('./movie_corpus.csv') as f:\n",
    "    df = pd.read_csv(f)"
   ]
  },
  {
   "cell_type": "code",
   "execution_count": 7,
   "id": "7745423d-c94c-4aff-9ef0-d064a2654095",
   "metadata": {
    "tags": []
   },
   "outputs": [
    {
     "data": {
      "text/html": [
       "<div>\n",
       "<style scoped>\n",
       "    .dataframe tbody tr th:only-of-type {\n",
       "        vertical-align: middle;\n",
       "    }\n",
       "\n",
       "    .dataframe tbody tr th {\n",
       "        vertical-align: top;\n",
       "    }\n",
       "\n",
       "    .dataframe thead th {\n",
       "        text-align: right;\n",
       "    }\n",
       "</style>\n",
       "<table border=\"1\" class=\"dataframe\">\n",
       "  <thead>\n",
       "    <tr style=\"text-align: right;\">\n",
       "      <th></th>\n",
       "      <th>overall</th>\n",
       "      <th>verified</th>\n",
       "      <th>reviewTime</th>\n",
       "      <th>reviewerID</th>\n",
       "      <th>asin</th>\n",
       "      <th>reviewerName</th>\n",
       "      <th>reviewText</th>\n",
       "      <th>summary</th>\n",
       "      <th>unixReviewTime</th>\n",
       "      <th>vote</th>\n",
       "      <th>style</th>\n",
       "      <th>image</th>\n",
       "    </tr>\n",
       "  </thead>\n",
       "  <tbody>\n",
       "    <tr>\n",
       "      <th>0</th>\n",
       "      <td>1.0</td>\n",
       "      <td>True</td>\n",
       "      <td>03 10, 2018</td>\n",
       "      <td>A18STJN3901AV7</td>\n",
       "      <td>B0112111VM</td>\n",
       "      <td>maxGamer</td>\n",
       "      <td>Junk, total junk. The first problem was that t...</td>\n",
       "      <td>Total crap!</td>\n",
       "      <td>1520640000</td>\n",
       "      <td>NaN</td>\n",
       "      <td>NaN</td>\n",
       "      <td>NaN</td>\n",
       "    </tr>\n",
       "    <tr>\n",
       "      <th>1</th>\n",
       "      <td>1.0</td>\n",
       "      <td>False</td>\n",
       "      <td>03 22, 2010</td>\n",
       "      <td>A1KUOSQ1YZZFTU</td>\n",
       "      <td>B002BU0DPE</td>\n",
       "      <td>a_friend_usa</td>\n",
       "      <td>This product is/was first available on 3-28-20...</td>\n",
       "      <td>Reviews before 3-28-10 are based on the older ...</td>\n",
       "      <td>1269216000</td>\n",
       "      <td>5</td>\n",
       "      <td>NaN</td>\n",
       "      <td>NaN</td>\n",
       "    </tr>\n",
       "    <tr>\n",
       "      <th>2</th>\n",
       "      <td>1.0</td>\n",
       "      <td>False</td>\n",
       "      <td>12 14, 2008</td>\n",
       "      <td>A3284KYDZ00BZA</td>\n",
       "      <td>B001E2I4H4</td>\n",
       "      <td>Erich Maria Remarque</td>\n",
       "      <td>You only get two (2) installs this time before...</td>\n",
       "      <td>DRM</td>\n",
       "      <td>1229212800</td>\n",
       "      <td>13</td>\n",
       "      <td>{'Edition:': ' Standard', 'Platform:': ' PC'}</td>\n",
       "      <td>NaN</td>\n",
       "    </tr>\n",
       "    <tr>\n",
       "      <th>3</th>\n",
       "      <td>1.0</td>\n",
       "      <td>False</td>\n",
       "      <td>04 16, 2016</td>\n",
       "      <td>A175A4QEG3661P</td>\n",
       "      <td>B017W16ZNA</td>\n",
       "      <td>Vin</td>\n",
       "      <td>5 Stars for Japanese Version.\\n\\n1 Star for th...</td>\n",
       "      <td>One Star</td>\n",
       "      <td>1460764800</td>\n",
       "      <td>21</td>\n",
       "      <td>NaN</td>\n",
       "      <td>NaN</td>\n",
       "    </tr>\n",
       "    <tr>\n",
       "      <th>4</th>\n",
       "      <td>1.0</td>\n",
       "      <td>False</td>\n",
       "      <td>07 14, 2015</td>\n",
       "      <td>A1XIKZOVZA0W67</td>\n",
       "      <td>B00H55FWE2</td>\n",
       "      <td>QUOKKA_54</td>\n",
       "      <td>Not sure why they decided to utterly ruin the ...</td>\n",
       "      <td>Do not waste your money in this complicated ga...</td>\n",
       "      <td>1436832000</td>\n",
       "      <td>NaN</td>\n",
       "      <td>NaN</td>\n",
       "      <td>NaN</td>\n",
       "    </tr>\n",
       "    <tr>\n",
       "      <th>5</th>\n",
       "      <td>1.0</td>\n",
       "      <td>False</td>\n",
       "      <td>09 4, 2006</td>\n",
       "      <td>A36Y3ZMIWOV2DA</td>\n",
       "      <td>B00004U8K2</td>\n",
       "      <td>Amazon Customer</td>\n",
       "      <td>This game won't install on my new AMD 3500+ cp...</td>\n",
       "      <td>Defective, needs to be recalled</td>\n",
       "      <td>1157328000</td>\n",
       "      <td>2</td>\n",
       "      <td>NaN</td>\n",
       "      <td>NaN</td>\n",
       "    </tr>\n",
       "    <tr>\n",
       "      <th>6</th>\n",
       "      <td>1.0</td>\n",
       "      <td>False</td>\n",
       "      <td>12 21, 2013</td>\n",
       "      <td>A1MHB1HRR6VPEH</td>\n",
       "      <td>B00BU3ZLJQ</td>\n",
       "      <td>Stephanie</td>\n",
       "      <td>This game is coming to ps4, so i would wait. P...</td>\n",
       "      <td>Wait until it comes to ps4</td>\n",
       "      <td>1387584000</td>\n",
       "      <td>3</td>\n",
       "      <td>{'Edition:': ' Standard', 'Platform:': ' Xbox ...</td>\n",
       "      <td>NaN</td>\n",
       "    </tr>\n",
       "    <tr>\n",
       "      <th>7</th>\n",
       "      <td>1.0</td>\n",
       "      <td>False</td>\n",
       "      <td>12 26, 2013</td>\n",
       "      <td>A37T2MU6L4521N</td>\n",
       "      <td>B00FF5KYME</td>\n",
       "      <td>Shenhua</td>\n",
       "      <td>Just a plain bad idea, and if you buy this you...</td>\n",
       "      <td>I bought this for 99 cents on Android, don't w...</td>\n",
       "      <td>1388016000</td>\n",
       "      <td>3</td>\n",
       "      <td>{'Format:': ' Video Game'}</td>\n",
       "      <td>NaN</td>\n",
       "    </tr>\n",
       "    <tr>\n",
       "      <th>8</th>\n",
       "      <td>1.0</td>\n",
       "      <td>False</td>\n",
       "      <td>10 24, 2014</td>\n",
       "      <td>A20FW880UV3XZ3</td>\n",
       "      <td>B00DC7G1WE</td>\n",
       "      <td>Nedley</td>\n",
       "      <td>game is too sexist</td>\n",
       "      <td>too sexist, could promote rape culture</td>\n",
       "      <td>1414108800</td>\n",
       "      <td>13</td>\n",
       "      <td>{'Edition:': ' Standard', 'Platform:': ' Ninte...</td>\n",
       "      <td>NaN</td>\n",
       "    </tr>\n",
       "    <tr>\n",
       "      <th>9</th>\n",
       "      <td>1.0</td>\n",
       "      <td>True</td>\n",
       "      <td>05 29, 2011</td>\n",
       "      <td>AOI7W7P87YUFD</td>\n",
       "      <td>B000H96C9M</td>\n",
       "      <td>Andi</td>\n",
       "      <td>I recently purchased this game so that I could...</td>\n",
       "      <td>Waste of money!!</td>\n",
       "      <td>1306627200</td>\n",
       "      <td>4</td>\n",
       "      <td>{'Format:': ' Video Game'}</td>\n",
       "      <td>NaN</td>\n",
       "    </tr>\n",
       "  </tbody>\n",
       "</table>\n",
       "</div>"
      ],
      "text/plain": [
       "   overall  verified   reviewTime      reviewerID        asin  \\\n",
       "0      1.0      True  03 10, 2018  A18STJN3901AV7  B0112111VM   \n",
       "1      1.0     False  03 22, 2010  A1KUOSQ1YZZFTU  B002BU0DPE   \n",
       "2      1.0     False  12 14, 2008  A3284KYDZ00BZA  B001E2I4H4   \n",
       "3      1.0     False  04 16, 2016  A175A4QEG3661P  B017W16ZNA   \n",
       "4      1.0     False  07 14, 2015  A1XIKZOVZA0W67  B00H55FWE2   \n",
       "5      1.0     False   09 4, 2006  A36Y3ZMIWOV2DA  B00004U8K2   \n",
       "6      1.0     False  12 21, 2013  A1MHB1HRR6VPEH  B00BU3ZLJQ   \n",
       "7      1.0     False  12 26, 2013  A37T2MU6L4521N  B00FF5KYME   \n",
       "8      1.0     False  10 24, 2014  A20FW880UV3XZ3  B00DC7G1WE   \n",
       "9      1.0      True  05 29, 2011   AOI7W7P87YUFD  B000H96C9M   \n",
       "\n",
       "           reviewerName                                         reviewText  \\\n",
       "0              maxGamer  Junk, total junk. The first problem was that t...   \n",
       "1          a_friend_usa  This product is/was first available on 3-28-20...   \n",
       "2  Erich Maria Remarque  You only get two (2) installs this time before...   \n",
       "3                   Vin  5 Stars for Japanese Version.\\n\\n1 Star for th...   \n",
       "4             QUOKKA_54  Not sure why they decided to utterly ruin the ...   \n",
       "5       Amazon Customer  This game won't install on my new AMD 3500+ cp...   \n",
       "6             Stephanie  This game is coming to ps4, so i would wait. P...   \n",
       "7               Shenhua  Just a plain bad idea, and if you buy this you...   \n",
       "8                Nedley                                 game is too sexist   \n",
       "9                  Andi  I recently purchased this game so that I could...   \n",
       "\n",
       "                                             summary  unixReviewTime vote  \\\n",
       "0                                        Total crap!      1520640000  NaN   \n",
       "1  Reviews before 3-28-10 are based on the older ...      1269216000    5   \n",
       "2                                                DRM      1229212800   13   \n",
       "3                                           One Star      1460764800   21   \n",
       "4  Do not waste your money in this complicated ga...      1436832000  NaN   \n",
       "5                    Defective, needs to be recalled      1157328000    2   \n",
       "6                         Wait until it comes to ps4      1387584000    3   \n",
       "7  I bought this for 99 cents on Android, don't w...      1388016000    3   \n",
       "8             too sexist, could promote rape culture      1414108800   13   \n",
       "9                                   Waste of money!!      1306627200    4   \n",
       "\n",
       "                                               style image  \n",
       "0                                                NaN   NaN  \n",
       "1                                                NaN   NaN  \n",
       "2      {'Edition:': ' Standard', 'Platform:': ' PC'}   NaN  \n",
       "3                                                NaN   NaN  \n",
       "4                                                NaN   NaN  \n",
       "5                                                NaN   NaN  \n",
       "6  {'Edition:': ' Standard', 'Platform:': ' Xbox ...   NaN  \n",
       "7                         {'Format:': ' Video Game'}   NaN  \n",
       "8  {'Edition:': ' Standard', 'Platform:': ' Ninte...   NaN  \n",
       "9                         {'Format:': ' Video Game'}   NaN  "
      ]
     },
     "execution_count": 7,
     "metadata": {},
     "output_type": "execute_result"
    }
   ],
   "source": [
    "df.head(10)"
   ]
  },
  {
   "cell_type": "code",
   "execution_count": 8,
   "id": "734b44ee-4dc8-4dd8-b993-ed64f8163ceb",
   "metadata": {
    "tags": []
   },
   "outputs": [
    {
     "data": {
      "text/plain": [
       "(4500, 12)"
      ]
     },
     "execution_count": 8,
     "metadata": {},
     "output_type": "execute_result"
    }
   ],
   "source": [
    "df.shape"
   ]
  },
  {
   "cell_type": "code",
   "execution_count": 9,
   "id": "d60e0bb3-6e70-4b51-bdb7-48277414dfc5",
   "metadata": {
    "tags": []
   },
   "outputs": [
    {
     "name": "stdout",
     "output_type": "stream",
     "text": [
      "<class 'pandas.core.frame.DataFrame'>\n",
      "RangeIndex: 4500 entries, 0 to 4499\n",
      "Data columns (total 12 columns):\n",
      " #   Column          Non-Null Count  Dtype  \n",
      "---  ------          --------------  -----  \n",
      " 0   overall         4500 non-null   float64\n",
      " 1   verified        4500 non-null   bool   \n",
      " 2   reviewTime      4500 non-null   object \n",
      " 3   reviewerID      4500 non-null   object \n",
      " 4   asin            4500 non-null   object \n",
      " 5   reviewerName    4499 non-null   object \n",
      " 6   reviewText      4499 non-null   object \n",
      " 7   summary         4499 non-null   object \n",
      " 8   unixReviewTime  4500 non-null   int64  \n",
      " 9   vote            1411 non-null   object \n",
      " 10  style           2670 non-null   object \n",
      " 11  image           29 non-null     object \n",
      "dtypes: bool(1), float64(1), int64(1), object(9)\n",
      "memory usage: 391.2+ KB\n"
     ]
    }
   ],
   "source": [
    "df.info()"
   ]
  },
  {
   "cell_type": "code",
   "execution_count": 15,
   "id": "f5d9cce2-45af-4d00-a1af-de4714fbc494",
   "metadata": {
    "tags": []
   },
   "outputs": [
    {
     "data": {
      "text/plain": [
       "<Axes: xlabel='overall', ylabel='count'>"
      ]
     },
     "execution_count": 15,
     "metadata": {},
     "output_type": "execute_result"
    },
    {
     "data": {
      "image/png": "[encoded data removed]",
      "text/plain": [
       "<Figure size 640x480 with 1 Axes>"
      ]
     },
     "metadata": {},
     "output_type": "display_data"
    }
   ],
   "source": [
    "df_visual = sns.countplot(df, x='overall')\n",
    "df_visual"
   ]
  },
  {
   "cell_type": "code",
   "execution_count": 14,
   "id": "146e3821-d6cf-43d9-a6af-18b0f9e65da8",
   "metadata": {
    "tags": []
   },
   "outputs": [
    {
     "data": {
      "text/plain": [
       "3118"
      ]
     },
     "execution_count": 14,
     "metadata": {},
     "output_type": "execute_result"
    }
   ],
   "source": [
    "df_length = len(df['asin'].value_counts(dropna=False))\n",
    "df_length"
   ]
  },
  {
   "cell_type": "code",
   "execution_count": null,
   "id": "c16ff769-03e9-4cb4-8340-2eb647fb8984",
   "metadata": {},
   "outputs": [],
   "source": []
  }
 ],
 "metadata": {
  "kernelspec": {
   "display_name": "Python 3 (ipykernel)",
   "language": "python",
   "name": "python3"
  },
  "language_info": {
   "codemirror_mode": {
    "name": "ipython",
    "version": 3
   },
   "file_extension": ".py",
   "mimetype": "text/x-python",
   "name": "python",
   "nbconvert_exporter": "python",
   "pygments_lexer": "ipython3",
   "version": "3.11.5"
  }
 },
 "nbformat": 4,
 "nbformat_minor": 5
}
